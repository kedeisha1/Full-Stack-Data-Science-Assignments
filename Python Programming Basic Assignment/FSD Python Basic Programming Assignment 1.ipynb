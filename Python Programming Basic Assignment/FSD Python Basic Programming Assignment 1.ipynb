{
 "cells": [
  {
   "cell_type": "code",
   "execution_count": 1,
   "id": "f8da8834",
   "metadata": {},
   "outputs": [
    {
     "name": "stdout",
     "output_type": "stream",
     "text": [
      "Hello Python\n"
     ]
    }
   ],
   "source": [
    "print('Hello Python')"
   ]
  },
  {
   "cell_type": "code",
   "execution_count": 4,
   "id": "30167ad8",
   "metadata": {},
   "outputs": [],
   "source": [
    "def add_div(x, y):\n",
    "    return (x+y)/(y+2)\n",
    "\n"
   ]
  },
  {
   "cell_type": "code",
   "execution_count": 5,
   "id": "61fb9a7a",
   "metadata": {},
   "outputs": [
    {
     "data": {
      "text/plain": [
       "1.5"
      ]
     },
     "execution_count": 5,
     "metadata": {},
     "output_type": "execute_result"
    }
   ],
   "source": [
    "add_div(5,4)"
   ]
  },
  {
   "cell_type": "code",
   "execution_count": 6,
   "id": "4aa7314e",
   "metadata": {},
   "outputs": [],
   "source": [
    "def area(base, height):\n",
    "    return (0.5 * base) * height"
   ]
  },
  {
   "cell_type": "code",
   "execution_count": 7,
   "id": "f26b4256",
   "metadata": {},
   "outputs": [
    {
     "data": {
      "text/plain": [
       "17.5"
      ]
     },
     "execution_count": 7,
     "metadata": {},
     "output_type": "execute_result"
    }
   ],
   "source": [
    "area(5,7)"
   ]
  },
  {
   "cell_type": "code",
   "execution_count": 5,
   "id": "47b01d41",
   "metadata": {},
   "outputs": [],
   "source": [
    "def variable_swap(a,b):\n",
    "    \n",
    "    print(f'variable a = {b}')\n",
    "    print(f'variable b = {a}')"
   ]
  },
  {
   "cell_type": "code",
   "execution_count": 6,
   "id": "a22837ed",
   "metadata": {},
   "outputs": [
    {
     "name": "stdout",
     "output_type": "stream",
     "text": [
      "variable a = 5\n",
      "variable b = 2\n"
     ]
    }
   ],
   "source": [
    "variable_swap(2,5)"
   ]
  },
  {
   "cell_type": "code",
   "execution_count": 12,
   "id": "a8e4d82c",
   "metadata": {},
   "outputs": [
    {
     "name": "stdout",
     "output_type": "stream",
     "text": [
      "55\n"
     ]
    }
   ],
   "source": [
    "import random\n",
    "\n",
    "a = random.randint(0,100)\n",
    "\n",
    "print(a)"
   ]
  }
 ],
 "metadata": {
  "kernelspec": {
   "display_name": "Python 3 (ipykernel)",
   "language": "python",
   "name": "python3"
  },
  "language_info": {
   "codemirror_mode": {
    "name": "ipython",
    "version": 3
   },
   "file_extension": ".py",
   "mimetype": "text/x-python",
   "name": "python",
   "nbconvert_exporter": "python",
   "pygments_lexer": "ipython3",
   "version": "3.8.8"
  }
 },
 "nbformat": 4,
 "nbformat_minor": 5
}

{
 "cells": [
  {
   "cell_type": "markdown",
   "id": "11afbf90",
   "metadata": {},
   "source": [
    "1 - Functions allow us to save and reuse lines of code that will manipulate data. Rather than writing multiple lines of code to manipulate data, calling a function saves time. For example the print() function."
   ]
  },
  {
   "cell_type": "markdown",
   "id": "7b3f8ac3",
   "metadata": {},
   "source": [
    "2 - The code in a function runs when is it called by typing def and then the function name: def example()"
   ]
  },
  {
   "cell_type": "markdown",
   "id": "cc6eb05e",
   "metadata": {},
   "source": [
    "3 - def creates a function"
   ]
  },
  {
   "cell_type": "markdown",
   "id": "8268aa14",
   "metadata": {},
   "source": [
    "4 - A function is just the code, while calling a function involves typing def before the funtion name and manipulating the data."
   ]
  },
  {
   "cell_type": "markdown",
   "id": "5b78b943",
   "metadata": {},
   "source": [
    "5 - There are 4 types of scopes: local, global, built-in, and enclosing. "
   ]
  },
  {
   "cell_type": "markdown",
   "id": "5b7f043b",
   "metadata": {},
   "source": [
    "6 - Variables in a local scope is destroyed once a function is called. It does not stay in memory and only lives in the function"
   ]
  },
  {
   "cell_type": "markdown",
   "id": "f22441fa",
   "metadata": {},
   "source": [
    "7 - Return stop a function and show the designated value from the function. Returns only work with functions. No need to use return for expressions."
   ]
  },
  {
   "cell_type": "markdown",
   "id": "77574f03",
   "metadata": {},
   "source": [
    "8 - If a function does not a have return statement, then None is returned when the function is called"
   ]
  },
  {
   "cell_type": "markdown",
   "id": "e2971a32",
   "metadata": {},
   "source": [
    "9 - You just have to type the global variable in the function to refer to it. It is best to pass it in an argument in the function or call it in the return statement"
   ]
  },
  {
   "cell_type": "markdown",
   "id": "84ad5ed8",
   "metadata": {},
   "source": [
    "10 - None is None type"
   ]
  },
  {
   "cell_type": "markdown",
   "id": "81418f30",
   "metadata": {},
   "source": [
    "11 - ModuleNotFoundError: No module named 'areallyourpetsnamederic'\n"
   ]
  },
  {
   "cell_type": "markdown",
   "id": "b6723d71",
   "metadata": {},
   "source": [
    "12 - bacon()"
   ]
  },
  {
   "cell_type": "markdown",
   "id": "88e41a52",
   "metadata": {},
   "source": [
    "13 - Error handiling. Try and except"
   ]
  },
  {
   "cell_type": "markdown",
   "id": "6f108a84",
   "metadata": {},
   "source": [
    "14 - Try tests a block of code for errors, while except will handle the error. If there is a try and there is an error, then the except clause will run"
   ]
  },
  {
   "cell_type": "code",
   "execution_count": null,
   "id": "4c8d502b",
   "metadata": {},
   "outputs": [],
   "source": []
  }
 ],
 "metadata": {
  "kernelspec": {
   "display_name": "Python 3 (ipykernel)",
   "language": "python",
   "name": "python3"
  },
  "language_info": {
   "codemirror_mode": {
    "name": "ipython",
    "version": 3
   },
   "file_extension": ".py",
   "mimetype": "text/x-python",
   "name": "python",
   "nbconvert_exporter": "python",
   "pygments_lexer": "ipython3",
   "version": "3.8.8"
  }
 },
 "nbformat": 4,
 "nbformat_minor": 5
}

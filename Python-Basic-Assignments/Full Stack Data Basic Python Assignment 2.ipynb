{
 "cells": [
  {
   "cell_type": "markdown",
   "id": "ed2ad533",
   "metadata": {},
   "source": [
    "Question 1: What are the two values of the Boolean data type? How do you write them?\n",
    "\n",
    "True\n",
    "False\n",
    "\n"
   ]
  },
  {
   "cell_type": "markdown",
   "id": "fcf72d8a",
   "metadata": {},
   "source": [
    "Question 2: What are the three different types of Boolean operators?\n",
    "\n",
    "and\n",
    "or\n",
    "not\n"
   ]
  },
  {
   "cell_type": "code",
   "execution_count": null,
   "id": "a01083d8",
   "metadata": {},
   "outputs": [],
   "source": [
    "Question 3: Make a list of each Boolean operator's truth tables (i.e. every possible combination of Boolean\n",
    "values for the operator and what it evaluate ).\n",
    "\n",
    "AND\n",
    "0 + 0 = False\n",
    "0 + 1 = False\n",
    "1 + 1 = Truth\n",
    "1 + 0 = False\n",
    "\n",
    "OR\n",
    "1 + 0 = True\n",
    "1 + 1 = True\n",
    "0 + 1 = True\n",
    "0 + 0 = False\n",
    "\n",
    "NOT\n",
    "1 = False\n",
    "0 = True\n"
   ]
  },
  {
   "cell_type": "markdown",
   "id": "71826a2a",
   "metadata": {},
   "source": [
    "Question 4:\n",
    "1. (5 > 4) and (3 == 5) False\n",
    "2. not (5>4) False\n",
    "3. (5>4) or (3==5) True\n",
    "4. not((5>4) or (3==5)) False\n",
    "5. (True and True) and (True == False) False\n",
    "6. (not False) or (not True) True\n",
    "\n"
   ]
  },
  {
   "cell_type": "markdown",
   "id": "db3d67f6",
   "metadata": {},
   "source": [
    "Question 5:\n",
    ">\n",
    "<\n",
    "!=\n",
    "==\n",
    ">=\n",
    "<="
   ]
  },
  {
   "cell_type": "markdown",
   "id": "4c699450",
   "metadata": {},
   "source": [
    "Question 6: \n",
    "1.  Equal operator is ==\n",
    "2.  Assignment is =\n",
    "\n",
    "Assignment is used to create a variable, while equal is used to show equivalency "
   ]
  },
  {
   "cell_type": "markdown",
   "id": "dd69be44",
   "metadata": {},
   "source": [
    "Question 7:"
   ]
  },
  {
   "cell_type": "code",
   "execution_count": 9,
   "id": "3b449524",
   "metadata": {
    "scrolled": true
   },
   "outputs": [
    {
     "name": "stdout",
     "output_type": "stream",
     "text": [
      "ham\n",
      "spam\n",
      "spam\n"
     ]
    }
   ],
   "source": [
    "\n",
    "spam = 0\n",
    "if spam == 10:\n",
    "    print('eggs')\n",
    "if spam > 5:\n",
    "    print('bacon')\n",
    "else:\n",
    "    print('ham')\n",
    "    print('spam')\n",
    "    print('spam')"
   ]
  },
  {
   "cell_type": "markdown",
   "id": "25d400f3",
   "metadata": {},
   "source": [
    "Question 8:"
   ]
  },
  {
   "cell_type": "code",
   "execution_count": 10,
   "id": "802e38d4",
   "metadata": {},
   "outputs": [
    {
     "name": "stdout",
     "output_type": "stream",
     "text": [
      "Hello\n"
     ]
    }
   ],
   "source": [
    "\n",
    "spam = 1\n",
    "\n",
    "if spam == 1:\n",
    "    print('Hello')\n",
    "elif spam == 2:\n",
    "    print('Howdy')\n",
    "else:\n",
    "    print('Greetings')"
   ]
  },
  {
   "cell_type": "markdown",
   "id": "325ad10b",
   "metadata": {},
   "source": [
    "Question 9\n",
    "1. Press ctrl + C to exit an endless python loop"
   ]
  },
  {
   "cell_type": "markdown",
   "id": "6591b68b",
   "metadata": {},
   "source": [
    "Question 10:\n",
    "1. Break terminates the innermost loop, while continue will skip a portion of the loop that is designated"
   ]
  },
  {
   "cell_type": "code",
   "execution_count": 11,
   "id": "324f6068",
   "metadata": {},
   "outputs": [
    {
     "name": "stdout",
     "output_type": "stream",
     "text": [
      "0\n",
      "1\n",
      "2\n",
      "3\n",
      "4\n",
      "5\n",
      "6\n",
      "7\n",
      "8\n",
      "9\n"
     ]
    }
   ],
   "source": [
    "for i in range(0,10):\n",
    "    print(i)"
   ]
  },
  {
   "cell_type": "code",
   "execution_count": 12,
   "id": "a754f7bf",
   "metadata": {},
   "outputs": [
    {
     "name": "stdout",
     "output_type": "stream",
     "text": [
      "0\n",
      "1\n",
      "2\n",
      "3\n",
      "4\n",
      "5\n",
      "6\n",
      "7\n",
      "8\n",
      "9\n"
     ]
    }
   ],
   "source": [
    "for i in range(10):\n",
    "    print(i)"
   ]
  },
  {
   "cell_type": "code",
   "execution_count": 13,
   "id": "eacd748a",
   "metadata": {},
   "outputs": [
    {
     "name": "stdout",
     "output_type": "stream",
     "text": [
      "0\n",
      "1\n",
      "2\n",
      "3\n",
      "4\n",
      "5\n",
      "6\n",
      "7\n",
      "8\n",
      "9\n"
     ]
    }
   ],
   "source": [
    "for i in range(0,10,1):\n",
    "    print(i)"
   ]
  },
  {
   "cell_type": "markdown",
   "id": "18cc1a32",
   "metadata": {},
   "source": [
    "Question 11.:\n",
    "1. No difference"
   ]
  },
  {
   "cell_type": "markdown",
   "id": "4d5648c2",
   "metadata": {},
   "source": [
    "Question 12:\n"
   ]
  },
  {
   "cell_type": "code",
   "execution_count": 14,
   "id": "a88396be",
   "metadata": {},
   "outputs": [
    {
     "name": "stdout",
     "output_type": "stream",
     "text": [
      "0\n",
      "1\n",
      "2\n",
      "3\n",
      "4\n",
      "5\n",
      "6\n",
      "7\n",
      "8\n",
      "9\n"
     ]
    }
   ],
   "source": [
    "for i in range(10):\n",
    "    print(i)"
   ]
  },
  {
   "cell_type": "code",
   "execution_count": 21,
   "id": "de9b59cf",
   "metadata": {},
   "outputs": [
    {
     "name": "stdout",
     "output_type": "stream",
     "text": [
      "1\n",
      "2\n",
      "3\n",
      "4\n",
      "5\n",
      "6\n",
      "7\n",
      "8\n",
      "9\n",
      "10\n"
     ]
    }
   ],
   "source": [
    "i = 0\n",
    "while i < 10:\n",
    "    i+=1\n",
    "    print(i)\n"
   ]
  },
  {
   "cell_type": "markdown",
   "id": "5203695c",
   "metadata": {},
   "source": [
    "Question 13: \n",
    "\n",
    "def bacon():"
   ]
  }
 ],
 "metadata": {
  "kernelspec": {
   "display_name": "Python 3 (ipykernel)",
   "language": "python",
   "name": "python3"
  },
  "language_info": {
   "codemirror_mode": {
    "name": "ipython",
    "version": 3
   },
   "file_extension": ".py",
   "mimetype": "text/x-python",
   "name": "python",
   "nbconvert_exporter": "python",
   "pygments_lexer": "ipython3",
   "version": "3.8.8"
  }
 },
 "nbformat": 4,
 "nbformat_minor": 5
}

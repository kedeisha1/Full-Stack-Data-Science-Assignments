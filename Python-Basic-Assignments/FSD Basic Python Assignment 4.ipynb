{
 "cells": [
  {
   "cell_type": "markdown",
   "id": "68eb9dbb",
   "metadata": {},
   "source": [
    "1 - [] is an empty list"
   ]
  },
  {
   "cell_type": "code",
   "execution_count": 1,
   "id": "fc092496",
   "metadata": {},
   "outputs": [
    {
     "data": {
      "text/plain": [
       "[2, 4, 'hello', 8, 10]"
      ]
     },
     "execution_count": 1,
     "metadata": {},
     "output_type": "execute_result"
    }
   ],
   "source": [
    "spam = [2, 4, 6, 8, 10] \n",
    "spam[2] = 'hello'\n",
    "spam"
   ]
  },
  {
   "cell_type": "code",
   "execution_count": 2,
   "id": "f31251ff",
   "metadata": {},
   "outputs": [
    {
     "data": {
      "text/plain": [
       "'d'"
      ]
     },
     "execution_count": 2,
     "metadata": {},
     "output_type": "execute_result"
    }
   ],
   "source": [
    "spam = ['a', 'b', 'c', 'd']\n",
    "spam[int(int('3'*2)/11)]"
   ]
  },
  {
   "cell_type": "code",
   "execution_count": 3,
   "id": "40a1f955",
   "metadata": {},
   "outputs": [
    {
     "data": {
      "text/plain": [
       "'d'"
      ]
     },
     "execution_count": 3,
     "metadata": {},
     "output_type": "execute_result"
    }
   ],
   "source": [
    "spam[-1]"
   ]
  },
  {
   "cell_type": "code",
   "execution_count": 4,
   "id": "b0c83eee",
   "metadata": {},
   "outputs": [
    {
     "data": {
      "text/plain": [
       "['a', 'b']"
      ]
     },
     "execution_count": 4,
     "metadata": {},
     "output_type": "execute_result"
    }
   ],
   "source": [
    "spam[:2]"
   ]
  },
  {
   "cell_type": "code",
   "execution_count": 7,
   "id": "e325df64",
   "metadata": {},
   "outputs": [],
   "source": [
    "bacon = [3.14, 'cat',11, 'cat', True]"
   ]
  },
  {
   "cell_type": "code",
   "execution_count": 9,
   "id": "ad453d9e",
   "metadata": {},
   "outputs": [
    {
     "data": {
      "text/plain": [
       "1"
      ]
     },
     "execution_count": 9,
     "metadata": {},
     "output_type": "execute_result"
    }
   ],
   "source": [
    "bacon.index('cat')"
   ]
  },
  {
   "cell_type": "code",
   "execution_count": 10,
   "id": "a792b3f6",
   "metadata": {},
   "outputs": [],
   "source": [
    "bacon.append(99)\n"
   ]
  },
  {
   "cell_type": "code",
   "execution_count": 11,
   "id": "4d280018",
   "metadata": {},
   "outputs": [
    {
     "data": {
      "text/plain": [
       "[3.14, 'cat', 11, 'cat', True, 99]"
      ]
     },
     "execution_count": 11,
     "metadata": {},
     "output_type": "execute_result"
    }
   ],
   "source": [
    "bacon"
   ]
  },
  {
   "cell_type": "code",
   "execution_count": 12,
   "id": "b4a729e6",
   "metadata": {},
   "outputs": [],
   "source": [
    "bacon.remove('cat')"
   ]
  },
  {
   "cell_type": "code",
   "execution_count": 13,
   "id": "cab3b820",
   "metadata": {},
   "outputs": [
    {
     "data": {
      "text/plain": [
       "[3.14, 11, 'cat', True, 99]"
      ]
     },
     "execution_count": 13,
     "metadata": {},
     "output_type": "execute_result"
    }
   ],
   "source": [
    "bacon"
   ]
  },
  {
   "cell_type": "markdown",
   "id": "6e6c89a3",
   "metadata": {},
   "source": [
    "- Concatenation +\n",
    "- Replication *"
   ]
  },
  {
   "cell_type": "markdown",
   "id": "05d668c1",
   "metadata": {},
   "source": [
    "Append adds the new element to a list at the end of the last, while insert allows you to choose where to add it in the list (ex. beginning or 3rd element)"
   ]
  },
  {
   "cell_type": "markdown",
   "id": "5d89ed3d",
   "metadata": {},
   "source": [
    "11 - Two methods to remove items from a list are pop() and remove()"
   ]
  },
  {
   "cell_type": "markdown",
   "id": "e87e2dc0",
   "metadata": {},
   "source": [
    "12 - You can create a list of string values"
   ]
  },
  {
   "cell_type": "markdown",
   "id": "77e252b5",
   "metadata": {},
   "source": [
    "13 - Tuples are immutable while lists are mutable. Tuples cannot be changed while lists can be changed. Tuples are more efficient in memory"
   ]
  },
  {
   "cell_type": "code",
   "execution_count": 17,
   "id": "f69ba52d",
   "metadata": {},
   "outputs": [
    {
     "data": {
      "text/plain": [
       "tuple"
      ]
     },
     "execution_count": 17,
     "metadata": {},
     "output_type": "execute_result"
    }
   ],
   "source": [
    "t = (42,)\n",
    "type(t)"
   ]
  },
  {
   "cell_type": "code",
   "execution_count": 18,
   "id": "efcc4862",
   "metadata": {},
   "outputs": [
    {
     "data": {
      "text/plain": [
       "(42,)"
      ]
     },
     "execution_count": 18,
     "metadata": {},
     "output_type": "execute_result"
    }
   ],
   "source": [
    "t"
   ]
  },
  {
   "cell_type": "code",
   "execution_count": 19,
   "id": "60aadb70",
   "metadata": {},
   "outputs": [],
   "source": [
    "l = [1,2,3,4,5,6]\n",
    "t = (1,2,3,4,5,6)"
   ]
  },
  {
   "cell_type": "code",
   "execution_count": 22,
   "id": "09a34b11",
   "metadata": {},
   "outputs": [
    {
     "name": "stdout",
     "output_type": "stream",
     "text": [
      "<class 'list'>\n"
     ]
    }
   ],
   "source": [
    "list(t)\n",
    "print(type(list(t)))"
   ]
  },
  {
   "cell_type": "code",
   "execution_count": 23,
   "id": "707f0d28",
   "metadata": {},
   "outputs": [
    {
     "name": "stdout",
     "output_type": "stream",
     "text": [
      "<class 'tuple'>\n"
     ]
    }
   ],
   "source": [
    "tuple(l)\n",
    "print(type(tuple(l)))"
   ]
  },
  {
   "cell_type": "markdown",
   "id": "2a1d6cc9",
   "metadata": {},
   "source": [
    "16 - Variables contain references to list instead of a list"
   ]
  },
  {
   "cell_type": "markdown",
   "id": "61a9567d",
   "metadata": {},
   "source": [
    "copy() constructs a new compound and then inserts regerences to the objects from the original. deepcopy() constructs a new compound, but inserts copies of the objects found in the original"
   ]
  },
  {
   "cell_type": "code",
   "execution_count": null,
   "id": "5bab81ba",
   "metadata": {},
   "outputs": [],
   "source": []
  }
 ],
 "metadata": {
  "kernelspec": {
   "display_name": "Python 3 (ipykernel)",
   "language": "python",
   "name": "python3"
  },
  "language_info": {
   "codemirror_mode": {
    "name": "ipython",
    "version": 3
   },
   "file_extension": ".py",
   "mimetype": "text/x-python",
   "name": "python",
   "nbconvert_exporter": "python",
   "pygments_lexer": "ipython3",
   "version": "3.8.8"
  }
 },
 "nbformat": 4,
 "nbformat_minor": 5
}

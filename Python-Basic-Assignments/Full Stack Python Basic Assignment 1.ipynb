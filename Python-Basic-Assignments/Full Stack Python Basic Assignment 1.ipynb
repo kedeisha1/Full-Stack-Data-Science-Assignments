{
 "cells": [
  {
   "cell_type": "markdown",
   "id": "5f654893",
   "metadata": {},
   "source": [
    "Question 1: In the below elements which of them are values or an expression? eg:- values can be\n",
    "integer or string and expressions will be mathematical operators.\n",
    "\n",
    "**- is an expression**\n",
    "\n",
    "**'hello' is a value**\n",
    "\n",
    "**-87.8 is a value**\n",
    "\n",
    "**- is an expression**\n",
    "\n",
    "**/ is an expression**\n",
    "\n",
    "**+ is an expression**\n",
    " \n",
    " **6 is a value**"
   ]
  },
  {
   "cell_type": "markdown",
   "id": "1e3a138a",
   "metadata": {},
   "source": [
    "Question 2: What is the difference between string and variable?\n",
    "\n",
    "Variables store data in your RAM (volatile memory) so it can be accessed and used at a later time. There are different data types such as strings, floats, and integers. A string is a data type that is surrounded by quotes (\" \"). "
   ]
  },
  {
   "cell_type": "markdown",
   "id": "54751eb7",
   "metadata": {},
   "source": [
    "Question 3: Describe three different data types.\n",
    "Integers are numbers without decimals (3)\n",
    "Floats are numbers with a decimal (3.0)\n",
    "Strings are data types for text and are surrounded by quotes"
   ]
  },
  {
   "cell_type": "markdown",
   "id": "170f140e",
   "metadata": {},
   "source": [
    "Question 4: What is an expression made up of? What do all expressions do?\n",
    "Expressions are made up of a combination of variables, operators, and data types that yield a result"
   ]
  },
  {
   "cell_type": "markdown",
   "id": "1ac573ee",
   "metadata": {},
   "source": [
    "Question 5: This assignment statements, like spam = 10. What is the difference between an\n",
    "expression and a statement? \n",
    "Statements yield a command. The value 10 is ASSIGNED to the the variable spam."
   ]
  },
  {
   "cell_type": "markdown",
   "id": "0a92d72a",
   "metadata": {},
   "source": [
    "Question 6: After running the following code, what does the variable bacon contain?\n"
   ]
  },
  {
   "cell_type": "code",
   "execution_count": 1,
   "id": "9fd44819",
   "metadata": {},
   "outputs": [
    {
     "data": {
      "text/plain": [
       "23"
      ]
     },
     "execution_count": 1,
     "metadata": {},
     "output_type": "execute_result"
    }
   ],
   "source": [
    "bacon = 22\n",
    "bacon + 1\n"
   ]
  },
  {
   "cell_type": "markdown",
   "id": "d9deb531",
   "metadata": {},
   "source": [
    "Question 7:  What should the values of the following two terms be?\n"
   ]
  },
  {
   "cell_type": "code",
   "execution_count": 2,
   "id": "f683ebd2",
   "metadata": {},
   "outputs": [
    {
     "data": {
      "text/plain": [
       "'spamspamspam'"
      ]
     },
     "execution_count": 2,
     "metadata": {},
     "output_type": "execute_result"
    }
   ],
   "source": [
    "'spam' + 'spamspam'"
   ]
  },
  {
   "cell_type": "code",
   "execution_count": 3,
   "id": "8c5a247d",
   "metadata": {},
   "outputs": [
    {
     "data": {
      "text/plain": [
       "'spamspamspam'"
      ]
     },
     "execution_count": 3,
     "metadata": {},
     "output_type": "execute_result"
    }
   ],
   "source": [
    "'spam' * 3"
   ]
  },
  {
   "cell_type": "markdown",
   "id": "63130e25",
   "metadata": {},
   "source": [
    "Question 8: Why is eggs a valid variable name while 100 is invalid? Variables cannot start with a number"
   ]
  },
  {
   "cell_type": "markdown",
   "id": "9410469f",
   "metadata": {},
   "source": [
    "Question 9: What three functions can be used to get the integer, floating-point number, or string\n",
    "version of a value? \n",
    "\n",
    "int()\n",
    "float()\n",
    "str()"
   ]
  },
  {
   "cell_type": "markdown",
   "id": "bf643e80",
   "metadata": {},
   "source": [
    "Question 10: Why does this expression cause an error? How can you fix it?\n",
    "\n",
    "'I have eaten' + 99 + 'burritos.'\n",
    "\n",
    "You cannot concatenate strings and integers. adding quotes around 99 would fix it"
   ]
  }
 ],
 "metadata": {
  "kernelspec": {
   "display_name": "Python 3 (ipykernel)",
   "language": "python",
   "name": "python3"
  },
  "language_info": {
   "codemirror_mode": {
    "name": "ipython",
    "version": 3
   },
   "file_extension": ".py",
   "mimetype": "text/x-python",
   "name": "python",
   "nbconvert_exporter": "python",
   "pygments_lexer": "ipython3",
   "version": "3.8.8"
  }
 },
 "nbformat": 4,
 "nbformat_minor": 5
}
